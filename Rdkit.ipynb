{
  "nbformat": 4,
  "nbformat_minor": 0,
  "metadata": {
    "colab": {
      "name": "Rdkit.ipynb",
      "provenance": [],
      "authorship_tag": "ABX9TyOHbWiTd3jQfwSVyhQvW0IW",
      "include_colab_link": true
    },
    "kernelspec": {
      "name": "python3",
      "display_name": "Python 3"
    },
    "language_info": {
      "name": "python"
    }
  },
  "cells": [
    {
      "cell_type": "markdown",
      "metadata": {
        "id": "view-in-github",
        "colab_type": "text"
      },
      "source": [
        "<a href=\"https://colab.research.google.com/github/whkaikai/AI/blob/main/Rdkit.ipynb\" target=\"_parent\"><img src=\"https://colab.research.google.com/assets/colab-badge.svg\" alt=\"Open In Colab\"/></a>"
      ]
    },
    {
      "cell_type": "markdown",
      "source": [
        "# 读取分子计算相似性"
      ],
      "metadata": {
        "id": "10wEUQHd9h8I"
      }
    },
    {
      "cell_type": "code",
      "source": [
        "!pip install kora -q\n",
        "import kora.install.rdkit"
      ],
      "metadata": {
        "colab": {
          "base_uri": "https://localhost:8080/"
        },
        "id": "8TiM5CNR7Ykq",
        "outputId": "b5acf269-f5dc-4f3c-e89b-20d3ccbe1591"
      },
      "execution_count": 9,
      "outputs": [
        {
          "output_type": "stream",
          "name": "stdout",
          "text": [
            "\u001b[K     |████████████████████████████████| 57 kB 2.5 MB/s \n",
            "\u001b[K     |████████████████████████████████| 59 kB 5.1 MB/s \n",
            "\u001b[?25h"
          ]
        }
      ]
    },
    {
      "cell_type": "code",
      "execution_count": 10,
      "metadata": {
        "id": "FCwFF_MQ1APu"
      },
      "outputs": [],
      "source": [
        "import os\n",
        "import pandas as pd\n",
        "import numpy as np\n",
        "import matplotlib.pyplot as plt\n",
        "from matplotlib import gridspec\n",
        "from rdkit import Chem, DataStructs\n",
        "from rdkit.Chem.Fingerprints import FingerprintMols\n",
        "from rdkit.Chem import Draw\n",
        "# clusteringfrom scipy.cluster.hierarchy import dendrogram, linkage"
      ]
    },
    {
      "cell_type": "code",
      "source": [
        "from rdkit.Chem import Descriptors\n",
        "\n",
        "# 读取化合物分子\n",
        "m = Chem.MolFromSmiles('c1ccccc1C(=O)O')\n",
        "Descriptors.TPSA(m)\n",
        "Descriptors.MolLogP(m)"
      ],
      "metadata": {
        "colab": {
          "base_uri": "https://localhost:8080/"
        },
        "id": "xttxkiPm1Cup",
        "outputId": "34998761-6e7d-4354-dfd4-58341b8a8f73"
      },
      "execution_count": 12,
      "outputs": [
        {
          "output_type": "execute_result",
          "data": {
            "text/plain": [
              "1.3848"
            ]
          },
          "metadata": {},
          "execution_count": 12
        }
      ]
    },
    {
      "cell_type": "code",
      "source": [
        "# 化合物分子指纹主要分为三种，分别是：1.Topological Fingerprints\n",
        "\n",
        "from rdkit import DataStructs\n",
        "\n",
        "# 提取分子指纹 \n",
        "m1 = Chem.MolFromSmiles('CCOC')\n",
        "m2 = Chem.MolFromSmiles('CCO')\n",
        "fps1 = Chem.RDKFingerprint(m1)\n",
        "fps2 = Chem.RDKFingerprint(m2)\n",
        "\n",
        "# 计算分子相似性\n",
        "from rdkit import DataStructs\n",
        "DataStructs.FingerprintSimilarity(fps1,fps2)\n",
        "\n",
        "# 分子指纹默认参数: \n",
        "# - minimum path size: 1 bond \n",
        "# - maximum path size: 7 bonds \n",
        "# - fingerprint size: 2048 bits \n",
        "# - number of bits set per hash: 2 \n",
        "# - minimum fingerprint size: 64 bits \n",
        "# - target on-bit density 0.0"
      ],
      "metadata": {
        "colab": {
          "base_uri": "https://localhost:8080/"
        },
        "id": "PgjRy6fi8H27",
        "outputId": "b36b5089-43e1-4cc2-8cd7-5ee3d951a637"
      },
      "execution_count": 14,
      "outputs": [
        {
          "output_type": "execute_result",
          "data": {
            "text/plain": [
              "0.6"
            ]
          },
          "metadata": {},
          "execution_count": 14
        }
      ]
    },
    {
      "cell_type": "code",
      "source": [
        "# 2. MACCS Keys\n",
        "from rdkit.Chem import MACCSkeys\n",
        "\n",
        "# 提取分子指纹MACCS\n",
        "ms = [Chem.MolFromSmiles('CCOC'), Chem.MolFromSmiles('CCO'), Chem.MolFromSmiles('COC')]\n",
        "fps = [MACCSkeys.GenMACCSKeys(x) for x in ms]\n",
        "\n",
        "# 计算分子相似性\n",
        "from rdkit import DataStructs\n",
        "DataStructs.FingerprintSimilarity(fps[0],fps[1])"
      ],
      "metadata": {
        "colab": {
          "base_uri": "https://localhost:8080/"
        },
        "id": "448OmAYR8bY5",
        "outputId": "3f1ff06d-4e1a-488e-e287-4a6f08c835af"
      },
      "execution_count": 16,
      "outputs": [
        {
          "output_type": "execute_result",
          "data": {
            "text/plain": [
              "0.5"
            ]
          },
          "metadata": {},
          "execution_count": 16
        }
      ]
    },
    {
      "cell_type": "code",
      "source": [
        "# 3. Atom Pairs and Topological Torsions\n",
        "from rdkit.Chem.AtomPairs import Pairs\n",
        "\n",
        "# 提取分子指纹MACCS\n",
        "ms = [Chem.MolFromSmiles('CCOC'), Chem.MolFromSmiles('CCO'),Chem.MolFromSmiles('COC')]\n",
        "pairFps = [Pairs.GetAtomPairFingerprint(x) for x in ms]\n",
        "#pairFps = [Pairs.GetAtomPairFingerprintAsBitVect(x) for x in ms]\n",
        "\n",
        "# 计算分子相似性\n",
        "from rdkit import DataStructs\n",
        "DataStructs.DiceSimilarity(pairFps[0],pairFps[1])"
      ],
      "metadata": {
        "colab": {
          "base_uri": "https://localhost:8080/"
        },
        "id": "Z_xIUvQ18ldx",
        "outputId": "a8405fa9-2fa6-4d3b-c0c3-4c78cb06c128"
      },
      "execution_count": 23,
      "outputs": [
        {
          "output_type": "execute_result",
          "data": {
            "text/plain": [
              "0.2222222222222222"
            ]
          },
          "metadata": {},
          "execution_count": 23
        }
      ]
    }
  ]
}